{
  "nbformat": 4,
  "nbformat_minor": 0,
  "metadata": {
    "colab": {
      "name": "stock_price_predication_with_LSTM.ipynb",
      "provenance": [],
      "collapsed_sections": [],
      "mount_file_id": "126z6Ht-0ZW8tIop1rsb6WVAkDeouMFD2",
      "authorship_tag": "ABX9TyNvRvW4VK4F/6HCe5OLMEfk",
      "include_colab_link": true
    },
    "kernelspec": {
      "name": "python3",
      "display_name": "Python 3"
    },
    "language_info": {
      "name": "python"
    }
  },
  "cells": [
    {
      "cell_type": "markdown",
      "metadata": {
        "id": "view-in-github",
        "colab_type": "text"
      },
      "source": [
        "<a href=\"https://colab.research.google.com/github/vahid-nejad/stock_price_predication_with_LSTM/blob/main/stock_price_predication_with_LSTM.ipynb\" target=\"_parent\"><img src=\"https://colab.research.google.com/assets/colab-badge.svg\" alt=\"Open In Colab\"/></a>"
      ]
    },
    {
      "cell_type": "code",
      "metadata": {
        "id": "X7cI5AOvPmq7"
      },
      "source": [
        "import numpy as np\n",
        "import pandas as pd\n",
        "import matplotlib.pyplot as plt\n",
        "from sklearn.preprocessing import MinMaxScaler\n",
        "from tensorflow.keras import Sequential\n",
        "from tensorflow.keras.layers import Dense, LSTM, Dropout\n",
        "from tensorflow.keras.optimizers import Adam\n",
        "%matplotlib inline"
      ],
      "execution_count": 60,
      "outputs": []
    },
    {
      "cell_type": "code",
      "metadata": {
        "colab": {
          "base_uri": "https://localhost:8080/",
          "height": 198
        },
        "id": "UtkseV0uVoFc",
        "outputId": "73831765-4ed8-4b68-ea40-3fa10a7fe0a1"
      },
      "source": [
        "data=pd.read_csv(\"/content/drive/MyDrive/Colab Notebooks/datasets/GOOG.csv\", date_parser=True)\n",
        "data.head()"
      ],
      "execution_count": 61,
      "outputs": [
        {
          "output_type": "execute_result",
          "data": {
            "text/html": [
              "<div>\n",
              "<style scoped>\n",
              "    .dataframe tbody tr th:only-of-type {\n",
              "        vertical-align: middle;\n",
              "    }\n",
              "\n",
              "    .dataframe tbody tr th {\n",
              "        vertical-align: top;\n",
              "    }\n",
              "\n",
              "    .dataframe thead th {\n",
              "        text-align: right;\n",
              "    }\n",
              "</style>\n",
              "<table border=\"1\" class=\"dataframe\">\n",
              "  <thead>\n",
              "    <tr style=\"text-align: right;\">\n",
              "      <th></th>\n",
              "      <th>Date</th>\n",
              "      <th>Open</th>\n",
              "      <th>High</th>\n",
              "      <th>Low</th>\n",
              "      <th>Close</th>\n",
              "      <th>Adj Close</th>\n",
              "      <th>Volume</th>\n",
              "    </tr>\n",
              "  </thead>\n",
              "  <tbody>\n",
              "    <tr>\n",
              "      <th>0</th>\n",
              "      <td>2004-08-19</td>\n",
              "      <td>49.813290</td>\n",
              "      <td>51.835709</td>\n",
              "      <td>47.800831</td>\n",
              "      <td>49.982655</td>\n",
              "      <td>49.982655</td>\n",
              "      <td>44871361</td>\n",
              "    </tr>\n",
              "    <tr>\n",
              "      <th>1</th>\n",
              "      <td>2004-08-20</td>\n",
              "      <td>50.316402</td>\n",
              "      <td>54.336334</td>\n",
              "      <td>50.062355</td>\n",
              "      <td>53.952770</td>\n",
              "      <td>53.952770</td>\n",
              "      <td>22942874</td>\n",
              "    </tr>\n",
              "    <tr>\n",
              "      <th>2</th>\n",
              "      <td>2004-08-23</td>\n",
              "      <td>55.168217</td>\n",
              "      <td>56.528118</td>\n",
              "      <td>54.321388</td>\n",
              "      <td>54.495735</td>\n",
              "      <td>54.495735</td>\n",
              "      <td>18342897</td>\n",
              "    </tr>\n",
              "    <tr>\n",
              "      <th>3</th>\n",
              "      <td>2004-08-24</td>\n",
              "      <td>55.412300</td>\n",
              "      <td>55.591629</td>\n",
              "      <td>51.591621</td>\n",
              "      <td>52.239197</td>\n",
              "      <td>52.239197</td>\n",
              "      <td>15319808</td>\n",
              "    </tr>\n",
              "    <tr>\n",
              "      <th>4</th>\n",
              "      <td>2004-08-25</td>\n",
              "      <td>52.284027</td>\n",
              "      <td>53.798351</td>\n",
              "      <td>51.746044</td>\n",
              "      <td>52.802086</td>\n",
              "      <td>52.802086</td>\n",
              "      <td>9232276</td>\n",
              "    </tr>\n",
              "  </tbody>\n",
              "</table>\n",
              "</div>"
            ],
            "text/plain": [
              "         Date       Open       High        Low      Close  Adj Close    Volume\n",
              "0  2004-08-19  49.813290  51.835709  47.800831  49.982655  49.982655  44871361\n",
              "1  2004-08-20  50.316402  54.336334  50.062355  53.952770  53.952770  22942874\n",
              "2  2004-08-23  55.168217  56.528118  54.321388  54.495735  54.495735  18342897\n",
              "3  2004-08-24  55.412300  55.591629  51.591621  52.239197  52.239197  15319808\n",
              "4  2004-08-25  52.284027  53.798351  51.746044  52.802086  52.802086   9232276"
            ]
          },
          "metadata": {
            "tags": []
          },
          "execution_count": 61
        }
      ]
    },
    {
      "cell_type": "code",
      "metadata": {
        "colab": {
          "base_uri": "https://localhost:8080/",
          "height": 407
        },
        "id": "cJHITNGnVzJv",
        "outputId": "235af58a-b719-4fa9-b6d4-3de71cdb5b7a"
      },
      "source": [
        "data_train = data[data['Date']<'2021-01-01'].copy()\n",
        "data_train"
      ],
      "execution_count": 62,
      "outputs": [
        {
          "output_type": "execute_result",
          "data": {
            "text/html": [
              "<div>\n",
              "<style scoped>\n",
              "    .dataframe tbody tr th:only-of-type {\n",
              "        vertical-align: middle;\n",
              "    }\n",
              "\n",
              "    .dataframe tbody tr th {\n",
              "        vertical-align: top;\n",
              "    }\n",
              "\n",
              "    .dataframe thead th {\n",
              "        text-align: right;\n",
              "    }\n",
              "</style>\n",
              "<table border=\"1\" class=\"dataframe\">\n",
              "  <thead>\n",
              "    <tr style=\"text-align: right;\">\n",
              "      <th></th>\n",
              "      <th>Date</th>\n",
              "      <th>Open</th>\n",
              "      <th>High</th>\n",
              "      <th>Low</th>\n",
              "      <th>Close</th>\n",
              "      <th>Adj Close</th>\n",
              "      <th>Volume</th>\n",
              "    </tr>\n",
              "  </thead>\n",
              "  <tbody>\n",
              "    <tr>\n",
              "      <th>0</th>\n",
              "      <td>2004-08-19</td>\n",
              "      <td>49.813290</td>\n",
              "      <td>51.835709</td>\n",
              "      <td>47.800831</td>\n",
              "      <td>49.982655</td>\n",
              "      <td>49.982655</td>\n",
              "      <td>44871361</td>\n",
              "    </tr>\n",
              "    <tr>\n",
              "      <th>1</th>\n",
              "      <td>2004-08-20</td>\n",
              "      <td>50.316402</td>\n",
              "      <td>54.336334</td>\n",
              "      <td>50.062355</td>\n",
              "      <td>53.952770</td>\n",
              "      <td>53.952770</td>\n",
              "      <td>22942874</td>\n",
              "    </tr>\n",
              "    <tr>\n",
              "      <th>2</th>\n",
              "      <td>2004-08-23</td>\n",
              "      <td>55.168217</td>\n",
              "      <td>56.528118</td>\n",
              "      <td>54.321388</td>\n",
              "      <td>54.495735</td>\n",
              "      <td>54.495735</td>\n",
              "      <td>18342897</td>\n",
              "    </tr>\n",
              "    <tr>\n",
              "      <th>3</th>\n",
              "      <td>2004-08-24</td>\n",
              "      <td>55.412300</td>\n",
              "      <td>55.591629</td>\n",
              "      <td>51.591621</td>\n",
              "      <td>52.239197</td>\n",
              "      <td>52.239197</td>\n",
              "      <td>15319808</td>\n",
              "    </tr>\n",
              "    <tr>\n",
              "      <th>4</th>\n",
              "      <td>2004-08-25</td>\n",
              "      <td>52.284027</td>\n",
              "      <td>53.798351</td>\n",
              "      <td>51.746044</td>\n",
              "      <td>52.802086</td>\n",
              "      <td>52.802086</td>\n",
              "      <td>9232276</td>\n",
              "    </tr>\n",
              "    <tr>\n",
              "      <th>...</th>\n",
              "      <td>...</td>\n",
              "      <td>...</td>\n",
              "      <td>...</td>\n",
              "      <td>...</td>\n",
              "      <td>...</td>\n",
              "      <td>...</td>\n",
              "      <td>...</td>\n",
              "    </tr>\n",
              "    <tr>\n",
              "      <th>4117</th>\n",
              "      <td>2020-12-24</td>\n",
              "      <td>1735.000000</td>\n",
              "      <td>1746.000000</td>\n",
              "      <td>1729.109985</td>\n",
              "      <td>1738.849976</td>\n",
              "      <td>1738.849976</td>\n",
              "      <td>346800</td>\n",
              "    </tr>\n",
              "    <tr>\n",
              "      <th>4118</th>\n",
              "      <td>2020-12-28</td>\n",
              "      <td>1751.635010</td>\n",
              "      <td>1790.728027</td>\n",
              "      <td>1746.334961</td>\n",
              "      <td>1776.089966</td>\n",
              "      <td>1776.089966</td>\n",
              "      <td>1393000</td>\n",
              "    </tr>\n",
              "    <tr>\n",
              "      <th>4119</th>\n",
              "      <td>2020-12-29</td>\n",
              "      <td>1787.790039</td>\n",
              "      <td>1792.439941</td>\n",
              "      <td>1756.089966</td>\n",
              "      <td>1758.719971</td>\n",
              "      <td>1758.719971</td>\n",
              "      <td>1299400</td>\n",
              "    </tr>\n",
              "    <tr>\n",
              "      <th>4120</th>\n",
              "      <td>2020-12-30</td>\n",
              "      <td>1762.010010</td>\n",
              "      <td>1765.094971</td>\n",
              "      <td>1725.599976</td>\n",
              "      <td>1739.520020</td>\n",
              "      <td>1739.520020</td>\n",
              "      <td>1306100</td>\n",
              "    </tr>\n",
              "    <tr>\n",
              "      <th>4121</th>\n",
              "      <td>2020-12-31</td>\n",
              "      <td>1735.420044</td>\n",
              "      <td>1758.930054</td>\n",
              "      <td>1735.420044</td>\n",
              "      <td>1751.880005</td>\n",
              "      <td>1751.880005</td>\n",
              "      <td>1011900</td>\n",
              "    </tr>\n",
              "  </tbody>\n",
              "</table>\n",
              "<p>4122 rows × 7 columns</p>\n",
              "</div>"
            ],
            "text/plain": [
              "            Date         Open         High  ...        Close    Adj Close    Volume\n",
              "0     2004-08-19    49.813290    51.835709  ...    49.982655    49.982655  44871361\n",
              "1     2004-08-20    50.316402    54.336334  ...    53.952770    53.952770  22942874\n",
              "2     2004-08-23    55.168217    56.528118  ...    54.495735    54.495735  18342897\n",
              "3     2004-08-24    55.412300    55.591629  ...    52.239197    52.239197  15319808\n",
              "4     2004-08-25    52.284027    53.798351  ...    52.802086    52.802086   9232276\n",
              "...          ...          ...          ...  ...          ...          ...       ...\n",
              "4117  2020-12-24  1735.000000  1746.000000  ...  1738.849976  1738.849976    346800\n",
              "4118  2020-12-28  1751.635010  1790.728027  ...  1776.089966  1776.089966   1393000\n",
              "4119  2020-12-29  1787.790039  1792.439941  ...  1758.719971  1758.719971   1299400\n",
              "4120  2020-12-30  1762.010010  1765.094971  ...  1739.520020  1739.520020   1306100\n",
              "4121  2020-12-31  1735.420044  1758.930054  ...  1751.880005  1751.880005   1011900\n",
              "\n",
              "[4122 rows x 7 columns]"
            ]
          },
          "metadata": {
            "tags": []
          },
          "execution_count": 62
        }
      ]
    },
    {
      "cell_type": "code",
      "metadata": {
        "colab": {
          "base_uri": "https://localhost:8080/",
          "height": 407
        },
        "id": "56aX6zCZV0Eg",
        "outputId": "36e12c68-96ed-4649-afd3-1cfca90a2b38"
      },
      "source": [
        "data_test = data[data['Date'] >= '2021-01-01'].copy()\n",
        "data_test"
      ],
      "execution_count": 63,
      "outputs": [
        {
          "output_type": "execute_result",
          "data": {
            "text/html": [
              "<div>\n",
              "<style scoped>\n",
              "    .dataframe tbody tr th:only-of-type {\n",
              "        vertical-align: middle;\n",
              "    }\n",
              "\n",
              "    .dataframe tbody tr th {\n",
              "        vertical-align: top;\n",
              "    }\n",
              "\n",
              "    .dataframe thead th {\n",
              "        text-align: right;\n",
              "    }\n",
              "</style>\n",
              "<table border=\"1\" class=\"dataframe\">\n",
              "  <thead>\n",
              "    <tr style=\"text-align: right;\">\n",
              "      <th></th>\n",
              "      <th>Date</th>\n",
              "      <th>Open</th>\n",
              "      <th>High</th>\n",
              "      <th>Low</th>\n",
              "      <th>Close</th>\n",
              "      <th>Adj Close</th>\n",
              "      <th>Volume</th>\n",
              "    </tr>\n",
              "  </thead>\n",
              "  <tbody>\n",
              "    <tr>\n",
              "      <th>4122</th>\n",
              "      <td>2021-01-04</td>\n",
              "      <td>1757.540039</td>\n",
              "      <td>1760.650024</td>\n",
              "      <td>1707.849976</td>\n",
              "      <td>1728.239990</td>\n",
              "      <td>1728.239990</td>\n",
              "      <td>1901900</td>\n",
              "    </tr>\n",
              "    <tr>\n",
              "      <th>4123</th>\n",
              "      <td>2021-01-05</td>\n",
              "      <td>1725.000000</td>\n",
              "      <td>1747.670044</td>\n",
              "      <td>1718.015015</td>\n",
              "      <td>1740.920044</td>\n",
              "      <td>1740.920044</td>\n",
              "      <td>1145300</td>\n",
              "    </tr>\n",
              "    <tr>\n",
              "      <th>4124</th>\n",
              "      <td>2021-01-06</td>\n",
              "      <td>1702.630005</td>\n",
              "      <td>1748.000000</td>\n",
              "      <td>1699.000000</td>\n",
              "      <td>1735.290039</td>\n",
              "      <td>1735.290039</td>\n",
              "      <td>2602100</td>\n",
              "    </tr>\n",
              "    <tr>\n",
              "      <th>4125</th>\n",
              "      <td>2021-01-07</td>\n",
              "      <td>1740.060059</td>\n",
              "      <td>1788.400024</td>\n",
              "      <td>1737.050049</td>\n",
              "      <td>1787.250000</td>\n",
              "      <td>1787.250000</td>\n",
              "      <td>2265000</td>\n",
              "    </tr>\n",
              "    <tr>\n",
              "      <th>4126</th>\n",
              "      <td>2021-01-08</td>\n",
              "      <td>1787.979980</td>\n",
              "      <td>1809.839966</td>\n",
              "      <td>1773.535034</td>\n",
              "      <td>1807.209961</td>\n",
              "      <td>1807.209961</td>\n",
              "      <td>2050600</td>\n",
              "    </tr>\n",
              "    <tr>\n",
              "      <th>...</th>\n",
              "      <td>...</td>\n",
              "      <td>...</td>\n",
              "      <td>...</td>\n",
              "      <td>...</td>\n",
              "      <td>...</td>\n",
              "      <td>...</td>\n",
              "      <td>...</td>\n",
              "    </tr>\n",
              "    <tr>\n",
              "      <th>4204</th>\n",
              "      <td>2021-05-03</td>\n",
              "      <td>2402.719971</td>\n",
              "      <td>2419.699951</td>\n",
              "      <td>2384.500000</td>\n",
              "      <td>2395.169922</td>\n",
              "      <td>2395.169922</td>\n",
              "      <td>1689400</td>\n",
              "    </tr>\n",
              "    <tr>\n",
              "      <th>4205</th>\n",
              "      <td>2021-05-04</td>\n",
              "      <td>2369.739990</td>\n",
              "      <td>2379.260010</td>\n",
              "      <td>2311.699951</td>\n",
              "      <td>2354.250000</td>\n",
              "      <td>2354.250000</td>\n",
              "      <td>1756000</td>\n",
              "    </tr>\n",
              "    <tr>\n",
              "      <th>4206</th>\n",
              "      <td>2021-05-05</td>\n",
              "      <td>2368.419922</td>\n",
              "      <td>2382.199951</td>\n",
              "      <td>2351.409912</td>\n",
              "      <td>2356.739990</td>\n",
              "      <td>2356.739990</td>\n",
              "      <td>1090300</td>\n",
              "    </tr>\n",
              "    <tr>\n",
              "      <th>4207</th>\n",
              "      <td>2021-05-06</td>\n",
              "      <td>2350.639893</td>\n",
              "      <td>2382.709961</td>\n",
              "      <td>2342.337891</td>\n",
              "      <td>2381.350098</td>\n",
              "      <td>2381.350098</td>\n",
              "      <td>1030900</td>\n",
              "    </tr>\n",
              "    <tr>\n",
              "      <th>4208</th>\n",
              "      <td>2021-05-07</td>\n",
              "      <td>2400.000000</td>\n",
              "      <td>2416.409912</td>\n",
              "      <td>2390.000000</td>\n",
              "      <td>2398.689941</td>\n",
              "      <td>2398.689941</td>\n",
              "      <td>1163600</td>\n",
              "    </tr>\n",
              "  </tbody>\n",
              "</table>\n",
              "<p>87 rows × 7 columns</p>\n",
              "</div>"
            ],
            "text/plain": [
              "            Date         Open         High  ...        Close    Adj Close   Volume\n",
              "4122  2021-01-04  1757.540039  1760.650024  ...  1728.239990  1728.239990  1901900\n",
              "4123  2021-01-05  1725.000000  1747.670044  ...  1740.920044  1740.920044  1145300\n",
              "4124  2021-01-06  1702.630005  1748.000000  ...  1735.290039  1735.290039  2602100\n",
              "4125  2021-01-07  1740.060059  1788.400024  ...  1787.250000  1787.250000  2265000\n",
              "4126  2021-01-08  1787.979980  1809.839966  ...  1807.209961  1807.209961  2050600\n",
              "...          ...          ...          ...  ...          ...          ...      ...\n",
              "4204  2021-05-03  2402.719971  2419.699951  ...  2395.169922  2395.169922  1689400\n",
              "4205  2021-05-04  2369.739990  2379.260010  ...  2354.250000  2354.250000  1756000\n",
              "4206  2021-05-05  2368.419922  2382.199951  ...  2356.739990  2356.739990  1090300\n",
              "4207  2021-05-06  2350.639893  2382.709961  ...  2381.350098  2381.350098  1030900\n",
              "4208  2021-05-07  2400.000000  2416.409912  ...  2398.689941  2398.689941  1163600\n",
              "\n",
              "[87 rows x 7 columns]"
            ]
          },
          "metadata": {
            "tags": []
          },
          "execution_count": 63
        }
      ]
    },
    {
      "cell_type": "code",
      "metadata": {
        "id": "cjyjJUI8XiwN"
      },
      "source": [
        "\n",
        "data_train = data_train.drop(['Date', 'Adj Close'], axis=1 )"
      ],
      "execution_count": 64,
      "outputs": []
    },
    {
      "cell_type": "code",
      "metadata": {
        "colab": {
          "base_uri": "https://localhost:8080/"
        },
        "id": "99gxLQLoYMVq",
        "outputId": "1d3766a2-5a36-4d6a-8c2e-2b2bc84d7688"
      },
      "source": [
        "scalar = MinMaxScaler()\n",
        "scaled_training_data=scalar.fit_transform(data_train)\n",
        "scaled_training_data"
      ],
      "execution_count": 65,
      "outputs": [
        {
          "output_type": "execute_result",
          "data": {
            "text/plain": [
              "array([[2.27303632e-04, 6.43283156e-04, 0.00000000e+00, 9.24472018e-05,\n",
              "        5.43577158e-01],\n",
              "       [5.10729413e-04, 2.03521039e-03, 1.27420629e-03, 2.32514214e-03,\n",
              "        2.77885876e-01],\n",
              "       [3.24397659e-03, 3.25522693e-03, 3.67386538e-03, 2.63049229e-03,\n",
              "        2.22151352e-01],\n",
              "       ...,\n",
              "       [9.79308338e-01, 9.69518841e-01, 9.62498190e-01, 9.61044247e-01,\n",
              "        1.56478852e-02],\n",
              "       [9.64785280e-01, 9.54297762e-01, 9.45319271e-01, 9.50246667e-01,\n",
              "        1.57290641e-02],\n",
              "       [9.49805947e-01, 9.50866174e-01, 9.50852174e-01, 9.57197618e-01,\n",
              "        1.21644600e-02]])"
            ]
          },
          "metadata": {
            "tags": []
          },
          "execution_count": 65
        }
      ]
    },
    {
      "cell_type": "code",
      "metadata": {
        "colab": {
          "base_uri": "https://localhost:8080/"
        },
        "id": "9uQd0g_lnEOI",
        "outputId": "16b5e163-cb87-4f6c-b174-0d86d7cd793e"
      },
      "source": [
        "scaled_training_data.shape"
      ],
      "execution_count": 66,
      "outputs": [
        {
          "output_type": "execute_result",
          "data": {
            "text/plain": [
              "(4122, 5)"
            ]
          },
          "metadata": {
            "tags": []
          },
          "execution_count": 66
        }
      ]
    },
    {
      "cell_type": "code",
      "metadata": {
        "colab": {
          "base_uri": "https://localhost:8080/"
        },
        "id": "5rYOpFE2rsmA",
        "outputId": "9a6e02aa-0ac2-4547-e590-d6c7c6d491eb"
      },
      "source": [
        "scaled_training_data[5]"
      ],
      "execution_count": 67,
      "outputs": [
        {
          "output_type": "execute_result",
          "data": {
            "text/plain": [
              "array([0.00161638, 0.00172189, 0.00244176, 0.00221309, 0.08627624])"
            ]
          },
          "metadata": {
            "tags": []
          },
          "execution_count": 67
        }
      ]
    },
    {
      "cell_type": "code",
      "metadata": {
        "id": "hlpbMdJgYst_"
      },
      "source": [
        "def perprocessData(training_data,n_back_steps):\n",
        "    x_train, y_train = [], []\n",
        "    for i in range(n_back_steps,training_data.shape[0]):\n",
        "        x_train.append(training_data[i-n_back_steps : i])\n",
        "        y_train.append(training_data[i,0])\n",
        "    return np.array(x_train), np.array(y_train)\n"
      ],
      "execution_count": 68,
      "outputs": []
    },
    {
      "cell_type": "code",
      "metadata": {
        "id": "1dutrZuIaJVF"
      },
      "source": [
        "n_back_steps = 60\n",
        "x_train, y_train = perprocessData(scaled_training_data, n_back_steps)"
      ],
      "execution_count": 69,
      "outputs": []
    },
    {
      "cell_type": "code",
      "metadata": {
        "colab": {
          "base_uri": "https://localhost:8080/"
        },
        "id": "89mQG6T7bTCi",
        "outputId": "794fd680-6676-4105-99f9-abd4087e20fe"
      },
      "source": [
        "x_train.shape"
      ],
      "execution_count": 70,
      "outputs": [
        {
          "output_type": "execute_result",
          "data": {
            "text/plain": [
              "(4062, 60, 5)"
            ]
          },
          "metadata": {
            "tags": []
          },
          "execution_count": 70
        }
      ]
    },
    {
      "cell_type": "code",
      "metadata": {
        "colab": {
          "base_uri": "https://localhost:8080/"
        },
        "id": "to8s4fz4bXOw",
        "outputId": "d3d75fff-4457-42a3-9255-77a86d10b3fc"
      },
      "source": [
        "y_train.shape"
      ],
      "execution_count": 71,
      "outputs": [
        {
          "output_type": "execute_result",
          "data": {
            "text/plain": [
              "(4062,)"
            ]
          },
          "metadata": {
            "tags": []
          },
          "execution_count": 71
        }
      ]
    },
    {
      "cell_type": "markdown",
      "metadata": {
        "id": "F7yqXEuEb6ov"
      },
      "source": [
        "#Building LSTM model"
      ]
    },
    {
      "cell_type": "code",
      "metadata": {
        "colab": {
          "base_uri": "https://localhost:8080/"
        },
        "id": "22cPcdT2b6ML",
        "outputId": "62b63ff2-9f76-45ce-f3a9-28a30dbf9e8f"
      },
      "source": [
        "model = Sequential()\n",
        "model.add(LSTM(units=50, return_sequences= True, activation=\"relu\", input_shape= (x_train.shape[1], x_train.shape[2])))\n",
        "model.add(Dropout(0.2))\n",
        "\n",
        "model.add(LSTM(units=60, activation=\"relu\", return_sequences=True))\n",
        "model.add(Dropout(0.3))\n",
        "\n",
        "model.add(LSTM(units=80, activation=\"relu\", return_sequences=True))\n",
        "model.add(Dropout(0.4))\n",
        "\n",
        "model.add(LSTM(units=120, activation=\"relu\"))\n",
        "model.add(Dropout(0.5))\n",
        "\n",
        "model.add(Dense(units=1))\n",
        "\n",
        "model.summary()\n",
        "\n"
      ],
      "execution_count": 72,
      "outputs": [
        {
          "output_type": "stream",
          "text": [
            "Model: \"sequential_4\"\n",
            "_________________________________________________________________\n",
            "Layer (type)                 Output Shape              Param #   \n",
            "=================================================================\n",
            "lstm_16 (LSTM)               (None, 60, 50)            11200     \n",
            "_________________________________________________________________\n",
            "dropout_16 (Dropout)         (None, 60, 50)            0         \n",
            "_________________________________________________________________\n",
            "lstm_17 (LSTM)               (None, 60, 60)            26640     \n",
            "_________________________________________________________________\n",
            "dropout_17 (Dropout)         (None, 60, 60)            0         \n",
            "_________________________________________________________________\n",
            "lstm_18 (LSTM)               (None, 60, 80)            45120     \n",
            "_________________________________________________________________\n",
            "dropout_18 (Dropout)         (None, 60, 80)            0         \n",
            "_________________________________________________________________\n",
            "lstm_19 (LSTM)               (None, 120)               96480     \n",
            "_________________________________________________________________\n",
            "dropout_19 (Dropout)         (None, 120)               0         \n",
            "_________________________________________________________________\n",
            "dense_4 (Dense)              (None, 1)                 121       \n",
            "=================================================================\n",
            "Total params: 179,561\n",
            "Trainable params: 179,561\n",
            "Non-trainable params: 0\n",
            "_________________________________________________________________\n"
          ],
          "name": "stdout"
        }
      ]
    },
    {
      "cell_type": "code",
      "metadata": {
        "colab": {
          "base_uri": "https://localhost:8080/"
        },
        "id": "RKFPfyFsd2CL",
        "outputId": "5ca38b59-a365-4478-87ba-b1eccaa5b667"
      },
      "source": [
        "model.compile(optimizer=Adam(learning_rate=0.000001), loss=\"MSE\")\n",
        "history= model.fit(x_train, y_train,validation_split=0.1, epochs=250, batch_size=32)"
      ],
      "execution_count": 73,
      "outputs": [
        {
          "output_type": "stream",
          "text": [
            "Epoch 1/250\n",
            "115/115 [==============================] - 23s 162ms/step - loss: 0.0810 - val_loss: 0.5345\n",
            "Epoch 2/250\n",
            "115/115 [==============================] - 18s 158ms/step - loss: 0.0831 - val_loss: 0.5283\n",
            "Epoch 3/250\n",
            "115/115 [==============================] - 19s 161ms/step - loss: 0.0775 - val_loss: 0.5219\n",
            "Epoch 4/250\n",
            "115/115 [==============================] - 18s 160ms/step - loss: 0.0768 - val_loss: 0.5153\n",
            "Epoch 5/250\n",
            "115/115 [==============================] - 18s 160ms/step - loss: 0.0747 - val_loss: 0.5086\n",
            "Epoch 6/250\n",
            "115/115 [==============================] - 19s 161ms/step - loss: 0.0739 - val_loss: 0.5014\n",
            "Epoch 7/250\n",
            "115/115 [==============================] - 19s 162ms/step - loss: 0.0771 - val_loss: 0.4940\n",
            "Epoch 8/250\n",
            "115/115 [==============================] - 19s 161ms/step - loss: 0.0738 - val_loss: 0.4860\n",
            "Epoch 9/250\n",
            "115/115 [==============================] - 19s 162ms/step - loss: 0.0708 - val_loss: 0.4772\n",
            "Epoch 10/250\n",
            "115/115 [==============================] - 19s 162ms/step - loss: 0.0698 - val_loss: 0.4681\n",
            "Epoch 11/250\n",
            "115/115 [==============================] - 19s 161ms/step - loss: 0.0707 - val_loss: 0.4582\n",
            "Epoch 12/250\n",
            "115/115 [==============================] - 19s 162ms/step - loss: 0.0687 - val_loss: 0.4479\n",
            "Epoch 13/250\n",
            "115/115 [==============================] - 19s 161ms/step - loss: 0.0640 - val_loss: 0.4369\n",
            "Epoch 14/250\n",
            "115/115 [==============================] - 19s 161ms/step - loss: 0.0617 - val_loss: 0.4254\n",
            "Epoch 15/250\n",
            "115/115 [==============================] - 19s 163ms/step - loss: 0.0630 - val_loss: 0.4124\n",
            "Epoch 16/250\n",
            "115/115 [==============================] - 19s 162ms/step - loss: 0.0567 - val_loss: 0.3986\n",
            "Epoch 17/250\n",
            "115/115 [==============================] - 19s 161ms/step - loss: 0.0569 - val_loss: 0.3835\n",
            "Epoch 18/250\n",
            "115/115 [==============================] - 18s 161ms/step - loss: 0.0549 - val_loss: 0.3676\n",
            "Epoch 19/250\n",
            "115/115 [==============================] - 19s 161ms/step - loss: 0.0511 - val_loss: 0.3504\n",
            "Epoch 20/250\n",
            "115/115 [==============================] - 18s 161ms/step - loss: 0.0501 - val_loss: 0.3321\n",
            "Epoch 21/250\n",
            "115/115 [==============================] - 18s 160ms/step - loss: 0.0476 - val_loss: 0.3125\n",
            "Epoch 22/250\n",
            "115/115 [==============================] - 18s 161ms/step - loss: 0.0436 - val_loss: 0.2916\n",
            "Epoch 23/250\n",
            "115/115 [==============================] - 19s 162ms/step - loss: 0.0399 - val_loss: 0.2691\n",
            "Epoch 24/250\n",
            "115/115 [==============================] - 19s 161ms/step - loss: 0.0394 - val_loss: 0.2451\n",
            "Epoch 25/250\n",
            "115/115 [==============================] - 19s 163ms/step - loss: 0.0358 - val_loss: 0.2203\n",
            "Epoch 26/250\n",
            "115/115 [==============================] - 19s 162ms/step - loss: 0.0318 - val_loss: 0.1945\n",
            "Epoch 27/250\n",
            "115/115 [==============================] - 19s 162ms/step - loss: 0.0284 - val_loss: 0.1684\n",
            "Epoch 28/250\n",
            "115/115 [==============================] - 19s 162ms/step - loss: 0.0256 - val_loss: 0.1418\n",
            "Epoch 29/250\n",
            "115/115 [==============================] - 19s 163ms/step - loss: 0.0219 - val_loss: 0.1149\n",
            "Epoch 30/250\n",
            "115/115 [==============================] - 19s 163ms/step - loss: 0.0190 - val_loss: 0.0882\n",
            "Epoch 31/250\n",
            "115/115 [==============================] - 19s 161ms/step - loss: 0.0165 - val_loss: 0.0642\n",
            "Epoch 32/250\n",
            "115/115 [==============================] - 19s 162ms/step - loss: 0.0137 - val_loss: 0.0442\n",
            "Epoch 33/250\n",
            "115/115 [==============================] - 19s 163ms/step - loss: 0.0106 - val_loss: 0.0300\n",
            "Epoch 34/250\n",
            "115/115 [==============================] - 19s 161ms/step - loss: 0.0092 - val_loss: 0.0226\n",
            "Epoch 35/250\n",
            "115/115 [==============================] - 19s 162ms/step - loss: 0.0072 - val_loss: 0.0227\n",
            "Epoch 36/250\n",
            "115/115 [==============================] - 19s 161ms/step - loss: 0.0061 - val_loss: 0.0284\n",
            "Epoch 37/250\n",
            "115/115 [==============================] - 19s 162ms/step - loss: 0.0061 - val_loss: 0.0373\n",
            "Epoch 38/250\n",
            "115/115 [==============================] - 19s 161ms/step - loss: 0.0056 - val_loss: 0.0477\n",
            "Epoch 39/250\n",
            "115/115 [==============================] - 19s 162ms/step - loss: 0.0053 - val_loss: 0.0549\n",
            "Epoch 40/250\n",
            "115/115 [==============================] - 18s 161ms/step - loss: 0.0050 - val_loss: 0.0603\n",
            "Epoch 41/250\n",
            "115/115 [==============================] - 19s 162ms/step - loss: 0.0053 - val_loss: 0.0630\n",
            "Epoch 42/250\n",
            "115/115 [==============================] - 18s 161ms/step - loss: 0.0053 - val_loss: 0.0647\n",
            "Epoch 43/250\n",
            "115/115 [==============================] - 19s 163ms/step - loss: 0.0049 - val_loss: 0.0638\n",
            "Epoch 44/250\n",
            "115/115 [==============================] - 19s 162ms/step - loss: 0.0054 - val_loss: 0.0627\n",
            "Epoch 45/250\n",
            "115/115 [==============================] - 19s 163ms/step - loss: 0.0053 - val_loss: 0.0576\n",
            "Epoch 46/250\n",
            "115/115 [==============================] - 19s 162ms/step - loss: 0.0047 - val_loss: 0.0594\n",
            "Epoch 47/250\n",
            "115/115 [==============================] - 19s 162ms/step - loss: 0.0049 - val_loss: 0.0592\n",
            "Epoch 48/250\n",
            "115/115 [==============================] - 19s 162ms/step - loss: 0.0046 - val_loss: 0.0620\n",
            "Epoch 49/250\n",
            "115/115 [==============================] - 19s 161ms/step - loss: 0.0050 - val_loss: 0.0608\n",
            "Epoch 50/250\n",
            "115/115 [==============================] - 19s 162ms/step - loss: 0.0050 - val_loss: 0.0590\n",
            "Epoch 51/250\n",
            "115/115 [==============================] - 19s 162ms/step - loss: 0.0050 - val_loss: 0.0589\n",
            "Epoch 52/250\n",
            "115/115 [==============================] - 19s 161ms/step - loss: 0.0049 - val_loss: 0.0566\n",
            "Epoch 53/250\n",
            "115/115 [==============================] - 18s 160ms/step - loss: 0.0048 - val_loss: 0.0558\n",
            "Epoch 54/250\n",
            "115/115 [==============================] - 18s 160ms/step - loss: 0.0049 - val_loss: 0.0558\n",
            "Epoch 55/250\n",
            "115/115 [==============================] - 19s 161ms/step - loss: 0.0048 - val_loss: 0.0569\n",
            "Epoch 56/250\n",
            "115/115 [==============================] - 19s 161ms/step - loss: 0.0049 - val_loss: 0.0532\n",
            "Epoch 57/250\n",
            "115/115 [==============================] - 19s 161ms/step - loss: 0.0047 - val_loss: 0.0496\n",
            "Epoch 58/250\n",
            "115/115 [==============================] - 19s 162ms/step - loss: 0.0047 - val_loss: 0.0506\n",
            "Epoch 59/250\n",
            "115/115 [==============================] - 19s 161ms/step - loss: 0.0046 - val_loss: 0.0467\n",
            "Epoch 60/250\n",
            "115/115 [==============================] - 19s 161ms/step - loss: 0.0043 - val_loss: 0.0475\n",
            "Epoch 61/250\n",
            "115/115 [==============================] - 18s 160ms/step - loss: 0.0042 - val_loss: 0.0476\n",
            "Epoch 62/250\n",
            "115/115 [==============================] - 19s 161ms/step - loss: 0.0042 - val_loss: 0.0495\n",
            "Epoch 63/250\n",
            "115/115 [==============================] - 19s 162ms/step - loss: 0.0044 - val_loss: 0.0456\n",
            "Epoch 64/250\n",
            "115/115 [==============================] - 19s 163ms/step - loss: 0.0041 - val_loss: 0.0463\n",
            "Epoch 65/250\n",
            "115/115 [==============================] - 19s 162ms/step - loss: 0.0043 - val_loss: 0.0473\n",
            "Epoch 66/250\n",
            "115/115 [==============================] - 19s 161ms/step - loss: 0.0045 - val_loss: 0.0445\n",
            "Epoch 67/250\n",
            "115/115 [==============================] - 19s 162ms/step - loss: 0.0042 - val_loss: 0.0456\n",
            "Epoch 68/250\n",
            "115/115 [==============================] - 19s 162ms/step - loss: 0.0044 - val_loss: 0.0451\n",
            "Epoch 69/250\n",
            "115/115 [==============================] - 19s 163ms/step - loss: 0.0043 - val_loss: 0.0421\n",
            "Epoch 70/250\n",
            "115/115 [==============================] - 19s 163ms/step - loss: 0.0047 - val_loss: 0.0409\n",
            "Epoch 71/250\n",
            "115/115 [==============================] - 19s 162ms/step - loss: 0.0041 - val_loss: 0.0392\n",
            "Epoch 72/250\n",
            "115/115 [==============================] - 19s 162ms/step - loss: 0.0037 - val_loss: 0.0386\n",
            "Epoch 73/250\n",
            "115/115 [==============================] - 19s 162ms/step - loss: 0.0041 - val_loss: 0.0379\n",
            "Epoch 74/250\n",
            "115/115 [==============================] - 19s 162ms/step - loss: 0.0045 - val_loss: 0.0370\n",
            "Epoch 75/250\n",
            "115/115 [==============================] - 19s 162ms/step - loss: 0.0040 - val_loss: 0.0409\n",
            "Epoch 76/250\n",
            "115/115 [==============================] - 19s 163ms/step - loss: 0.0040 - val_loss: 0.0392\n",
            "Epoch 77/250\n",
            "115/115 [==============================] - 19s 162ms/step - loss: 0.0038 - val_loss: 0.0355\n",
            "Epoch 78/250\n",
            "115/115 [==============================] - 19s 162ms/step - loss: 0.0040 - val_loss: 0.0345\n",
            "Epoch 79/250\n",
            "115/115 [==============================] - 19s 163ms/step - loss: 0.0040 - val_loss: 0.0322\n",
            "Epoch 80/250\n",
            "115/115 [==============================] - 19s 162ms/step - loss: 0.0042 - val_loss: 0.0311\n",
            "Epoch 81/250\n",
            "115/115 [==============================] - 19s 163ms/step - loss: 0.0041 - val_loss: 0.0308\n",
            "Epoch 82/250\n",
            "115/115 [==============================] - 19s 163ms/step - loss: 0.0043 - val_loss: 0.0290\n",
            "Epoch 83/250\n",
            "115/115 [==============================] - 19s 161ms/step - loss: 0.0040 - val_loss: 0.0290\n",
            "Epoch 84/250\n",
            "115/115 [==============================] - 19s 162ms/step - loss: 0.0039 - val_loss: 0.0306\n",
            "Epoch 85/250\n",
            "115/115 [==============================] - 19s 161ms/step - loss: 0.0039 - val_loss: 0.0306\n",
            "Epoch 86/250\n",
            "115/115 [==============================] - 19s 162ms/step - loss: 0.0037 - val_loss: 0.0299\n",
            "Epoch 87/250\n",
            "115/115 [==============================] - 19s 163ms/step - loss: 0.0038 - val_loss: 0.0295\n",
            "Epoch 88/250\n",
            "115/115 [==============================] - 19s 162ms/step - loss: 0.0038 - val_loss: 0.0282\n",
            "Epoch 89/250\n",
            "115/115 [==============================] - 19s 162ms/step - loss: 0.0038 - val_loss: 0.0273\n",
            "Epoch 90/250\n",
            "115/115 [==============================] - 19s 162ms/step - loss: 0.0037 - val_loss: 0.0285\n",
            "Epoch 91/250\n",
            "115/115 [==============================] - 19s 163ms/step - loss: 0.0041 - val_loss: 0.0272\n",
            "Epoch 92/250\n",
            "115/115 [==============================] - 19s 163ms/step - loss: 0.0039 - val_loss: 0.0248\n",
            "Epoch 93/250\n",
            "115/115 [==============================] - 19s 162ms/step - loss: 0.0038 - val_loss: 0.0245\n",
            "Epoch 94/250\n",
            "115/115 [==============================] - 19s 162ms/step - loss: 0.0038 - val_loss: 0.0249\n",
            "Epoch 95/250\n",
            "115/115 [==============================] - 19s 163ms/step - loss: 0.0037 - val_loss: 0.0239\n",
            "Epoch 96/250\n",
            "115/115 [==============================] - 19s 163ms/step - loss: 0.0038 - val_loss: 0.0229\n",
            "Epoch 97/250\n",
            "115/115 [==============================] - 19s 162ms/step - loss: 0.0037 - val_loss: 0.0234\n",
            "Epoch 98/250\n",
            "115/115 [==============================] - 19s 162ms/step - loss: 0.0040 - val_loss: 0.0220\n",
            "Epoch 99/250\n",
            "115/115 [==============================] - 19s 162ms/step - loss: 0.0033 - val_loss: 0.0215\n",
            "Epoch 100/250\n",
            "115/115 [==============================] - 19s 162ms/step - loss: 0.0036 - val_loss: 0.0221\n",
            "Epoch 101/250\n",
            "115/115 [==============================] - 19s 162ms/step - loss: 0.0038 - val_loss: 0.0221\n",
            "Epoch 102/250\n",
            "115/115 [==============================] - 19s 163ms/step - loss: 0.0031 - val_loss: 0.0226\n",
            "Epoch 103/250\n",
            "115/115 [==============================] - 19s 162ms/step - loss: 0.0036 - val_loss: 0.0208\n",
            "Epoch 104/250\n",
            "115/115 [==============================] - 19s 162ms/step - loss: 0.0034 - val_loss: 0.0203\n",
            "Epoch 105/250\n",
            "115/115 [==============================] - 19s 162ms/step - loss: 0.0034 - val_loss: 0.0208\n",
            "Epoch 106/250\n",
            "115/115 [==============================] - 19s 162ms/step - loss: 0.0032 - val_loss: 0.0198\n",
            "Epoch 107/250\n",
            "115/115 [==============================] - 19s 162ms/step - loss: 0.0036 - val_loss: 0.0182\n",
            "Epoch 108/250\n",
            "115/115 [==============================] - 19s 161ms/step - loss: 0.0035 - val_loss: 0.0179\n",
            "Epoch 109/250\n",
            "115/115 [==============================] - 19s 162ms/step - loss: 0.0035 - val_loss: 0.0185\n",
            "Epoch 110/250\n",
            "115/115 [==============================] - 19s 162ms/step - loss: 0.0033 - val_loss: 0.0183\n",
            "Epoch 111/250\n",
            "115/115 [==============================] - 19s 163ms/step - loss: 0.0031 - val_loss: 0.0177\n",
            "Epoch 112/250\n",
            "115/115 [==============================] - 19s 163ms/step - loss: 0.0038 - val_loss: 0.0170\n",
            "Epoch 113/250\n",
            "115/115 [==============================] - 19s 163ms/step - loss: 0.0032 - val_loss: 0.0171\n",
            "Epoch 114/250\n",
            "115/115 [==============================] - 19s 164ms/step - loss: 0.0034 - val_loss: 0.0167\n",
            "Epoch 115/250\n",
            "115/115 [==============================] - 19s 163ms/step - loss: 0.0034 - val_loss: 0.0154\n",
            "Epoch 116/250\n",
            "115/115 [==============================] - 19s 162ms/step - loss: 0.0032 - val_loss: 0.0160\n",
            "Epoch 117/250\n",
            "115/115 [==============================] - 19s 162ms/step - loss: 0.0031 - val_loss: 0.0148\n",
            "Epoch 118/250\n",
            "115/115 [==============================] - 19s 163ms/step - loss: 0.0036 - val_loss: 0.0149\n",
            "Epoch 119/250\n",
            "115/115 [==============================] - 19s 163ms/step - loss: 0.0033 - val_loss: 0.0146\n",
            "Epoch 120/250\n",
            "115/115 [==============================] - 19s 163ms/step - loss: 0.0032 - val_loss: 0.0147\n",
            "Epoch 121/250\n",
            "115/115 [==============================] - 19s 162ms/step - loss: 0.0030 - val_loss: 0.0141\n",
            "Epoch 122/250\n",
            "115/115 [==============================] - 19s 162ms/step - loss: 0.0031 - val_loss: 0.0136\n",
            "Epoch 123/250\n",
            "115/115 [==============================] - 19s 163ms/step - loss: 0.0032 - val_loss: 0.0132\n",
            "Epoch 124/250\n",
            "115/115 [==============================] - 19s 163ms/step - loss: 0.0031 - val_loss: 0.0138\n",
            "Epoch 125/250\n",
            "115/115 [==============================] - 19s 163ms/step - loss: 0.0032 - val_loss: 0.0127\n",
            "Epoch 126/250\n",
            "115/115 [==============================] - 19s 163ms/step - loss: 0.0030 - val_loss: 0.0127\n",
            "Epoch 127/250\n",
            "115/115 [==============================] - 19s 162ms/step - loss: 0.0031 - val_loss: 0.0125\n",
            "Epoch 128/250\n",
            "115/115 [==============================] - 19s 162ms/step - loss: 0.0032 - val_loss: 0.0120\n",
            "Epoch 129/250\n",
            "115/115 [==============================] - 19s 162ms/step - loss: 0.0034 - val_loss: 0.0120\n",
            "Epoch 130/250\n",
            "115/115 [==============================] - 19s 163ms/step - loss: 0.0031 - val_loss: 0.0118\n",
            "Epoch 131/250\n",
            "115/115 [==============================] - 19s 162ms/step - loss: 0.0032 - val_loss: 0.0122\n",
            "Epoch 132/250\n",
            "115/115 [==============================] - 19s 164ms/step - loss: 0.0029 - val_loss: 0.0111\n",
            "Epoch 133/250\n",
            "115/115 [==============================] - 19s 163ms/step - loss: 0.0034 - val_loss: 0.0108\n",
            "Epoch 134/250\n",
            "115/115 [==============================] - 19s 162ms/step - loss: 0.0029 - val_loss: 0.0109\n",
            "Epoch 135/250\n",
            "115/115 [==============================] - 19s 163ms/step - loss: 0.0033 - val_loss: 0.0106\n",
            "Epoch 136/250\n",
            "115/115 [==============================] - 19s 161ms/step - loss: 0.0029 - val_loss: 0.0103\n",
            "Epoch 137/250\n",
            "115/115 [==============================] - 19s 162ms/step - loss: 0.0028 - val_loss: 0.0102\n",
            "Epoch 138/250\n",
            "115/115 [==============================] - 19s 163ms/step - loss: 0.0028 - val_loss: 0.0109\n",
            "Epoch 139/250\n",
            "115/115 [==============================] - 19s 162ms/step - loss: 0.0030 - val_loss: 0.0104\n",
            "Epoch 140/250\n",
            "115/115 [==============================] - 19s 163ms/step - loss: 0.0029 - val_loss: 0.0107\n",
            "Epoch 141/250\n",
            "115/115 [==============================] - 19s 163ms/step - loss: 0.0030 - val_loss: 0.0102\n",
            "Epoch 142/250\n",
            "115/115 [==============================] - 19s 164ms/step - loss: 0.0029 - val_loss: 0.0098\n",
            "Epoch 143/250\n",
            "115/115 [==============================] - 19s 163ms/step - loss: 0.0029 - val_loss: 0.0098\n",
            "Epoch 144/250\n",
            "115/115 [==============================] - 19s 163ms/step - loss: 0.0032 - val_loss: 0.0096\n",
            "Epoch 145/250\n",
            "115/115 [==============================] - 19s 164ms/step - loss: 0.0027 - val_loss: 0.0090\n",
            "Epoch 146/250\n",
            "115/115 [==============================] - 19s 165ms/step - loss: 0.0029 - val_loss: 0.0092\n",
            "Epoch 147/250\n",
            "115/115 [==============================] - 19s 165ms/step - loss: 0.0026 - val_loss: 0.0090\n",
            "Epoch 148/250\n",
            "115/115 [==============================] - 19s 164ms/step - loss: 0.0031 - val_loss: 0.0089\n",
            "Epoch 149/250\n",
            "115/115 [==============================] - 19s 163ms/step - loss: 0.0027 - val_loss: 0.0087\n",
            "Epoch 150/250\n",
            "115/115 [==============================] - 19s 163ms/step - loss: 0.0030 - val_loss: 0.0090\n",
            "Epoch 151/250\n",
            "115/115 [==============================] - 19s 164ms/step - loss: 0.0029 - val_loss: 0.0088\n",
            "Epoch 152/250\n",
            "115/115 [==============================] - 19s 163ms/step - loss: 0.0028 - val_loss: 0.0084\n",
            "Epoch 153/250\n",
            "115/115 [==============================] - 19s 162ms/step - loss: 0.0028 - val_loss: 0.0083\n",
            "Epoch 154/250\n",
            "115/115 [==============================] - 19s 164ms/step - loss: 0.0028 - val_loss: 0.0082\n",
            "Epoch 155/250\n",
            "115/115 [==============================] - 19s 164ms/step - loss: 0.0027 - val_loss: 0.0083\n",
            "Epoch 156/250\n",
            "115/115 [==============================] - 19s 164ms/step - loss: 0.0027 - val_loss: 0.0081\n",
            "Epoch 157/250\n",
            "115/115 [==============================] - 19s 164ms/step - loss: 0.0032 - val_loss: 0.0079\n",
            "Epoch 158/250\n",
            "115/115 [==============================] - 19s 164ms/step - loss: 0.0026 - val_loss: 0.0079\n",
            "Epoch 159/250\n",
            "115/115 [==============================] - 19s 164ms/step - loss: 0.0026 - val_loss: 0.0077\n",
            "Epoch 160/250\n",
            "115/115 [==============================] - 19s 163ms/step - loss: 0.0029 - val_loss: 0.0075\n",
            "Epoch 161/250\n",
            "115/115 [==============================] - 19s 163ms/step - loss: 0.0027 - val_loss: 0.0075\n",
            "Epoch 162/250\n",
            "115/115 [==============================] - 19s 165ms/step - loss: 0.0028 - val_loss: 0.0075\n",
            "Epoch 163/250\n",
            "115/115 [==============================] - 19s 165ms/step - loss: 0.0028 - val_loss: 0.0073\n",
            "Epoch 164/250\n",
            "115/115 [==============================] - 19s 165ms/step - loss: 0.0026 - val_loss: 0.0073\n",
            "Epoch 165/250\n",
            "115/115 [==============================] - 19s 165ms/step - loss: 0.0028 - val_loss: 0.0073\n",
            "Epoch 166/250\n",
            "115/115 [==============================] - 19s 164ms/step - loss: 0.0028 - val_loss: 0.0072\n",
            "Epoch 167/250\n",
            "115/115 [==============================] - 19s 164ms/step - loss: 0.0026 - val_loss: 0.0071\n",
            "Epoch 168/250\n",
            "115/115 [==============================] - 19s 163ms/step - loss: 0.0028 - val_loss: 0.0071\n",
            "Epoch 169/250\n",
            "115/115 [==============================] - 19s 162ms/step - loss: 0.0027 - val_loss: 0.0070\n",
            "Epoch 170/250\n",
            "115/115 [==============================] - 19s 163ms/step - loss: 0.0029 - val_loss: 0.0070\n",
            "Epoch 171/250\n",
            "115/115 [==============================] - 19s 164ms/step - loss: 0.0027 - val_loss: 0.0069\n",
            "Epoch 172/250\n",
            "115/115 [==============================] - 19s 163ms/step - loss: 0.0026 - val_loss: 0.0069\n",
            "Epoch 173/250\n",
            "115/115 [==============================] - 19s 163ms/step - loss: 0.0026 - val_loss: 0.0069\n",
            "Epoch 174/250\n",
            "115/115 [==============================] - 19s 164ms/step - loss: 0.0028 - val_loss: 0.0068\n",
            "Epoch 175/250\n",
            "115/115 [==============================] - 19s 164ms/step - loss: 0.0024 - val_loss: 0.0068\n",
            "Epoch 176/250\n",
            "115/115 [==============================] - 19s 164ms/step - loss: 0.0023 - val_loss: 0.0067\n",
            "Epoch 177/250\n",
            "115/115 [==============================] - 19s 165ms/step - loss: 0.0026 - val_loss: 0.0067\n",
            "Epoch 178/250\n",
            "115/115 [==============================] - 19s 164ms/step - loss: 0.0025 - val_loss: 0.0067\n",
            "Epoch 179/250\n",
            "115/115 [==============================] - 19s 164ms/step - loss: 0.0025 - val_loss: 0.0066\n",
            "Epoch 180/250\n",
            "115/115 [==============================] - 19s 166ms/step - loss: 0.0028 - val_loss: 0.0066\n",
            "Epoch 181/250\n",
            "115/115 [==============================] - 19s 164ms/step - loss: 0.0025 - val_loss: 0.0066\n",
            "Epoch 182/250\n",
            "115/115 [==============================] - 19s 166ms/step - loss: 0.0025 - val_loss: 0.0065\n",
            "Epoch 183/250\n",
            "115/115 [==============================] - 19s 166ms/step - loss: 0.0028 - val_loss: 0.0065\n",
            "Epoch 184/250\n",
            "115/115 [==============================] - 19s 165ms/step - loss: 0.0024 - val_loss: 0.0066\n",
            "Epoch 185/250\n",
            "115/115 [==============================] - 19s 164ms/step - loss: 0.0026 - val_loss: 0.0065\n",
            "Epoch 186/250\n",
            "115/115 [==============================] - 19s 165ms/step - loss: 0.0024 - val_loss: 0.0066\n",
            "Epoch 187/250\n",
            "115/115 [==============================] - 19s 163ms/step - loss: 0.0027 - val_loss: 0.0064\n",
            "Epoch 188/250\n",
            "115/115 [==============================] - 19s 163ms/step - loss: 0.0028 - val_loss: 0.0064\n",
            "Epoch 189/250\n",
            "115/115 [==============================] - 19s 163ms/step - loss: 0.0027 - val_loss: 0.0064\n",
            "Epoch 190/250\n",
            "115/115 [==============================] - 19s 163ms/step - loss: 0.0027 - val_loss: 0.0064\n",
            "Epoch 191/250\n",
            "115/115 [==============================] - 19s 164ms/step - loss: 0.0026 - val_loss: 0.0063\n",
            "Epoch 192/250\n",
            "115/115 [==============================] - 19s 163ms/step - loss: 0.0026 - val_loss: 0.0063\n",
            "Epoch 193/250\n",
            "115/115 [==============================] - 19s 165ms/step - loss: 0.0027 - val_loss: 0.0064\n",
            "Epoch 194/250\n",
            "115/115 [==============================] - 19s 164ms/step - loss: 0.0029 - val_loss: 0.0064\n",
            "Epoch 195/250\n",
            "115/115 [==============================] - 19s 163ms/step - loss: 0.0025 - val_loss: 0.0064\n",
            "Epoch 196/250\n",
            "115/115 [==============================] - 19s 164ms/step - loss: 0.0025 - val_loss: 0.0063\n",
            "Epoch 197/250\n",
            "115/115 [==============================] - 19s 164ms/step - loss: 0.0028 - val_loss: 0.0064\n",
            "Epoch 198/250\n",
            "115/115 [==============================] - 19s 163ms/step - loss: 0.0024 - val_loss: 0.0063\n",
            "Epoch 199/250\n",
            "115/115 [==============================] - 19s 163ms/step - loss: 0.0025 - val_loss: 0.0064\n",
            "Epoch 200/250\n",
            "115/115 [==============================] - 19s 164ms/step - loss: 0.0025 - val_loss: 0.0066\n",
            "Epoch 201/250\n",
            "115/115 [==============================] - 19s 163ms/step - loss: 0.0024 - val_loss: 0.0064\n",
            "Epoch 202/250\n",
            "115/115 [==============================] - 19s 164ms/step - loss: 0.0023 - val_loss: 0.0063\n",
            "Epoch 203/250\n",
            "115/115 [==============================] - 19s 164ms/step - loss: 0.0026 - val_loss: 0.0065\n",
            "Epoch 204/250\n",
            "115/115 [==============================] - 19s 163ms/step - loss: 0.0025 - val_loss: 0.0064\n",
            "Epoch 205/250\n",
            "115/115 [==============================] - 19s 163ms/step - loss: 0.0030 - val_loss: 0.0066\n",
            "Epoch 206/250\n",
            "115/115 [==============================] - 19s 163ms/step - loss: 0.0026 - val_loss: 0.0063\n",
            "Epoch 207/250\n",
            "115/115 [==============================] - 19s 163ms/step - loss: 0.0026 - val_loss: 0.0063\n",
            "Epoch 208/250\n",
            "115/115 [==============================] - 19s 164ms/step - loss: 0.0026 - val_loss: 0.0062\n",
            "Epoch 209/250\n",
            "115/115 [==============================] - 19s 163ms/step - loss: 0.0024 - val_loss: 0.0064\n",
            "Epoch 210/250\n",
            "115/115 [==============================] - 19s 165ms/step - loss: 0.0028 - val_loss: 0.0066\n",
            "Epoch 211/250\n",
            "115/115 [==============================] - 19s 164ms/step - loss: 0.0024 - val_loss: 0.0068\n",
            "Epoch 212/250\n",
            "115/115 [==============================] - 19s 165ms/step - loss: 0.0025 - val_loss: 0.0064\n",
            "Epoch 213/250\n",
            "115/115 [==============================] - 19s 164ms/step - loss: 0.0025 - val_loss: 0.0064\n",
            "Epoch 214/250\n",
            "115/115 [==============================] - 19s 163ms/step - loss: 0.0025 - val_loss: 0.0066\n",
            "Epoch 215/250\n",
            "115/115 [==============================] - 19s 164ms/step - loss: 0.0023 - val_loss: 0.0065\n",
            "Epoch 216/250\n",
            "115/115 [==============================] - 19s 165ms/step - loss: 0.0025 - val_loss: 0.0065\n",
            "Epoch 217/250\n",
            "115/115 [==============================] - 19s 164ms/step - loss: 0.0023 - val_loss: 0.0064\n",
            "Epoch 218/250\n",
            "115/115 [==============================] - 19s 163ms/step - loss: 0.0024 - val_loss: 0.0064\n",
            "Epoch 219/250\n",
            "115/115 [==============================] - 19s 164ms/step - loss: 0.0024 - val_loss: 0.0063\n",
            "Epoch 220/250\n",
            "115/115 [==============================] - 19s 164ms/step - loss: 0.0026 - val_loss: 0.0066\n",
            "Epoch 221/250\n",
            "115/115 [==============================] - 19s 164ms/step - loss: 0.0024 - val_loss: 0.0066\n",
            "Epoch 222/250\n",
            "115/115 [==============================] - 19s 164ms/step - loss: 0.0024 - val_loss: 0.0067\n",
            "Epoch 223/250\n",
            "115/115 [==============================] - 19s 164ms/step - loss: 0.0027 - val_loss: 0.0068\n",
            "Epoch 224/250\n",
            "115/115 [==============================] - 19s 163ms/step - loss: 0.0024 - val_loss: 0.0065\n",
            "Epoch 225/250\n",
            "115/115 [==============================] - 19s 164ms/step - loss: 0.0023 - val_loss: 0.0065\n",
            "Epoch 226/250\n",
            "115/115 [==============================] - 19s 165ms/step - loss: 0.0023 - val_loss: 0.0064\n",
            "Epoch 227/250\n",
            "115/115 [==============================] - 19s 163ms/step - loss: 0.0023 - val_loss: 0.0063\n",
            "Epoch 228/250\n",
            "115/115 [==============================] - 19s 163ms/step - loss: 0.0025 - val_loss: 0.0062\n",
            "Epoch 229/250\n",
            "115/115 [==============================] - 19s 163ms/step - loss: 0.0024 - val_loss: 0.0065\n",
            "Epoch 230/250\n",
            "115/115 [==============================] - 19s 165ms/step - loss: 0.0024 - val_loss: 0.0067\n",
            "Epoch 231/250\n",
            "115/115 [==============================] - 19s 164ms/step - loss: 0.0023 - val_loss: 0.0066\n",
            "Epoch 232/250\n",
            "115/115 [==============================] - 19s 163ms/step - loss: 0.0022 - val_loss: 0.0066\n",
            "Epoch 233/250\n",
            "115/115 [==============================] - 19s 165ms/step - loss: 0.0021 - val_loss: 0.0064\n",
            "Epoch 234/250\n",
            "115/115 [==============================] - 19s 165ms/step - loss: 0.0025 - val_loss: 0.0066\n",
            "Epoch 235/250\n",
            "115/115 [==============================] - 19s 164ms/step - loss: 0.0023 - val_loss: 0.0063\n",
            "Epoch 236/250\n",
            "115/115 [==============================] - 19s 164ms/step - loss: 0.0022 - val_loss: 0.0063\n",
            "Epoch 237/250\n",
            "115/115 [==============================] - 19s 165ms/step - loss: 0.0023 - val_loss: 0.0063\n",
            "Epoch 238/250\n",
            "115/115 [==============================] - 19s 164ms/step - loss: 0.0024 - val_loss: 0.0067\n",
            "Epoch 239/250\n",
            "115/115 [==============================] - 19s 164ms/step - loss: 0.0023 - val_loss: 0.0067\n",
            "Epoch 240/250\n",
            "115/115 [==============================] - 19s 164ms/step - loss: 0.0024 - val_loss: 0.0065\n",
            "Epoch 241/250\n",
            "115/115 [==============================] - 19s 163ms/step - loss: 0.0024 - val_loss: 0.0063\n",
            "Epoch 242/250\n",
            "115/115 [==============================] - 19s 164ms/step - loss: 0.0023 - val_loss: 0.0069\n",
            "Epoch 243/250\n",
            "115/115 [==============================] - 19s 165ms/step - loss: 0.0024 - val_loss: 0.0062\n",
            "Epoch 244/250\n",
            "115/115 [==============================] - 19s 165ms/step - loss: 0.0024 - val_loss: 0.0068\n",
            "Epoch 245/250\n",
            "115/115 [==============================] - 19s 166ms/step - loss: 0.0024 - val_loss: 0.0067\n",
            "Epoch 246/250\n",
            "115/115 [==============================] - 19s 167ms/step - loss: 0.0026 - val_loss: 0.0064\n",
            "Epoch 247/250\n",
            "115/115 [==============================] - 19s 166ms/step - loss: 0.0025 - val_loss: 0.0066\n",
            "Epoch 248/250\n",
            "115/115 [==============================] - 19s 164ms/step - loss: 0.0026 - val_loss: 0.0064\n",
            "Epoch 249/250\n",
            "115/115 [==============================] - 19s 164ms/step - loss: 0.0023 - val_loss: 0.0068\n",
            "Epoch 250/250\n",
            "115/115 [==============================] - 19s 164ms/step - loss: 0.0024 - val_loss: 0.0067\n"
          ],
          "name": "stdout"
        }
      ]
    },
    {
      "cell_type": "code",
      "metadata": {
        "id": "KW_2V5EQeDEN",
        "colab": {
          "base_uri": "https://localhost:8080/",
          "height": 283
        },
        "outputId": "be3baf30-ee43-4c40-8bda-96114bb16b47"
      },
      "source": [
        "plt.plot(history.history['loss'], label='Training loss')\n",
        "plt.plot(history.history['val_loss'], label='Validation loss')\n",
        "plt.legend()\n"
      ],
      "execution_count": 84,
      "outputs": [
        {
          "output_type": "execute_result",
          "data": {
            "text/plain": [
              "<matplotlib.legend.Legend at 0x7f206ae3a710>"
            ]
          },
          "metadata": {
            "tags": []
          },
          "execution_count": 84
        },
        {
          "output_type": "display_data",
          "data": {
            "image/png": "[encoded data removed]",
            "text/plain": [
              "<Figure size 432x288 with 1 Axes>"
            ]
          },
          "metadata": {
            "tags": [],
            "needs_background": "light"
          }
        }
      ]
    },
    {
      "cell_type": "markdown",
      "metadata": {
        "id": "sdwNgMxCmnP4"
      },
      "source": [
        "#Testing the model with test data"
      ]
    },
    {
      "cell_type": "code",
      "metadata": {
        "id": "3oC0PZcreqxV"
      },
      "source": [
        "data_test= data_test.drop(['Date', 'Adj Close'], axis=1 )"
      ],
      "execution_count": 75,
      "outputs": []
    },
    {
      "cell_type": "code",
      "metadata": {
        "id": "Fd54bFSvnPS2"
      },
      "source": [
        "scaled_test_data=scalar.transform(data_test)"
      ],
      "execution_count": 76,
      "outputs": []
    },
    {
      "cell_type": "code",
      "metadata": {
        "colab": {
          "base_uri": "https://localhost:8080/"
        },
        "id": "LNOF4Y14q-rb",
        "outputId": "b58688e5-f340-48fd-c9f0-b9568c00efb8"
      },
      "source": [
        "scaled_test_data"
      ],
      "execution_count": 77,
      "outputs": [
        {
          "output_type": "execute_result",
          "data": {
            "text/plain": [
              "array([[0.96226714, 0.95182356, 0.93531842, 0.94390306, 0.02294793],\n",
              "       [0.94393586, 0.94459849, 0.94104569, 0.95103401, 0.01378077],\n",
              "       [0.93133383, 0.94478216, 0.9303321 , 0.94786783, 0.03143174],\n",
              "       [0.95241988, 0.96727009, 0.95177056, 0.97708883, 0.02734735],\n",
              "       [0.97941534, 0.97920425, 0.97232723, 0.98831382, 0.02474962],\n",
              "       [0.97833933, 0.97056253, 0.96499421, 0.96554325, 0.01456106],\n",
              "       [0.96022784, 0.9615034 , 0.94515592, 0.95420018, 0.01634578],\n",
              "       [0.95158607, 0.9542644 , 0.95231143, 0.95861481, 0.01316042],\n",
              "       [0.9600588 , 0.95981679, 0.94971404, 0.95061785, 0.01419515],\n",
              "       [0.95136636, 0.94923521, 0.94303743, 0.94837391, 0.01616646],\n",
              "       [0.95928702, 0.97888978, 0.95425523, 0.979119  , 0.02092088],\n",
              "       [1.00390958, 1.03145527, 1.00162268, 1.03312955, 0.03007714],\n",
              "       [1.0413946 , 1.04879436, 1.03631856, 1.03557587, 0.02491077],\n",
              "       [1.04008767, 1.03548527, 1.03330423, 1.04108718, 0.01531711],\n",
              "       [1.05416566, 1.04585533, 1.02528666, 1.04015925, 0.02325569],\n",
              "       [1.03623434, 1.04330598, 1.03470434, 1.050192  , 0.01581388],\n",
              "       [1.03267967, 1.02382387, 0.99230919, 1.00157468, 0.03320314],\n",
              "       [1.01094012, 1.0287389 , 1.01126292, 1.01975062, 0.02138736],\n",
              "       [1.01219644, 1.00561089, 0.99298528, 1.00435841, 0.0194427 ],\n",
              "       [1.01636514, 1.04185426, 1.01593377, 1.04125585, 0.01931669],\n",
              "       [1.0552304 , 1.06042797, 1.05174522, 1.05596761, 0.02745276],\n",
              "       [1.13998003, 1.14990095, 1.11027978, 1.13613988, 0.0498012 ],\n",
              "       [1.13766462, 1.12877681, 1.12392035, 1.13180961, 0.02234697],\n",
              "       [1.13828999, 1.14211368, 1.13335221, 1.15184698, 0.01850369],\n",
              "       [1.15851967, 1.1538236 , 1.1404908 , 1.14898444, 0.0149512 ],\n",
              "       [1.14310098, 1.14357199, 1.14417564, 1.14369817, 0.01068628],\n",
              "       [1.15192856, 1.1453756 , 1.1354707 , 1.15037349, 0.01366203],\n",
              "       [1.15491432, 1.14184651, 1.14348827, 1.15066031, 0.01136236],\n",
              "       [1.14969774, 1.14562606, 1.14676169, 1.15528316, 0.0102719 ],\n",
              "       [1.1576466 , 1.17003985, 1.15872339, 1.1652877 , 0.01364143],\n",
              "       [1.15519035, 1.15945271, 1.15565824, 1.16889261, 0.01287932],\n",
              "       [1.16104345, 1.15893793, 1.15835708, 1.16264456, 0.01349361],\n",
              "       [1.16604603, 1.15771051, 1.15480746, 1.15361278, 0.01756225],\n",
              "       [1.13659996, 1.13594059, 1.13493533, 1.13322104, 0.016473  ],\n",
              "       [1.11294509, 1.13070273, 1.10106211, 1.13658417, 0.02010667],\n",
              "       [1.12242053, 1.14115072, 1.12140749, 1.15025542, 0.01502874],\n",
              "       [1.13685344, 1.13786651, 1.11191938, 1.11437028, 0.02205739],\n",
              "       [1.12731604, 1.12457978, 1.10897266, 1.11746334, 0.02514825],\n",
              "       [1.13069611, 1.13321315, 1.12589799, 1.14257342, 0.0169213 ],\n",
              "       [1.14177707, 1.14314908, 1.14007386, 1.13938479, 0.01365113],\n",
              "       [1.13671824, 1.13432532, 1.10555825, 1.11175522, 0.01788697],\n",
              "       [1.1120212 , 1.13472717, 1.11134467, 1.12434125, 0.02556626],\n",
              "       [1.1400477 , 1.15079719, 1.12607551, 1.15777444, 0.02650163],\n",
              "       [1.15582687, 1.15675312, 1.11209964, 1.11032683, 0.01986434],\n",
              "       [1.13828999, 1.12849292, 1.12687271, 1.12637135, 0.02046895],\n",
              "       [1.13928149, 1.12680074, 1.11872556, 1.12768173, 0.0152747 ],\n",
              "       [1.14057721, 1.15502194, 1.14070483, 1.16127803, 0.01491727],\n",
              "       [1.14674017, 1.13529494, 1.12671501, 1.13155643, 0.02081426],\n",
              "       [1.13395226, 1.12238111, 1.12443873, 1.13412653, 0.01563213],\n",
              "       [1.14335446, 1.15383081, 1.13936394, 1.14876518, 0.01797663],\n",
              "       [1.14168698, 1.1461604 , 1.13034909, 1.14795539, 0.01564304],\n",
              "       [1.13321989, 1.12707905, 1.11882701, 1.11710341, 0.01639909],\n",
              "       [1.12254452, 1.11461056, 1.10988541, 1.12102878, 0.02795195],\n",
              "       [1.12242617, 1.11733243, 1.11461251, 1.11843624, 0.02358888],\n",
              "       [1.12798075, 1.12529895, 1.1220216 , 1.12651757, 0.01646694],\n",
              "       [1.13568177, 1.1285875 , 1.12333726, 1.12207486, 0.01388618],\n",
              "       [1.12409936, 1.11782233, 1.10596954, 1.12168116, 0.01709578],\n",
              "       [1.12074741, 1.113436  , 1.10782324, 1.11672667, 0.01799965],\n",
              "       [1.11456189, 1.11757731, 1.10872471, 1.12819907, 0.01480459],\n",
              "       [1.13132135, 1.12445177, 1.12473173, 1.12796855, 0.01246373],\n",
              "       [1.13216086, 1.13700207, 1.13189577, 1.13532995, 0.01759255],\n",
              "       [1.15403547, 1.16461826, 1.15451446, 1.1742014 , 0.02048954],\n",
              "       [1.18501382, 1.21714767, 1.18535101, 1.22357799, 0.02613451],\n",
              "       [1.22420015, 1.21734241, 1.22094836, 1.22312806, 0.01629732],\n",
              "       [1.22624503, 1.22699445, 1.22688128, 1.23714804, 0.01553278],\n",
              "       [1.25544326, 1.24313949, 1.2451081 , 1.24601108, 0.01636153],\n",
              "       [1.24346653, 1.24594222, 1.24287364, 1.257506  , 0.01255824],\n",
              "       [1.24884651, 1.23830524, 1.23428191, 1.24002184, 0.01887687],\n",
              "       [1.2461537 , 1.23935722, 1.24421233, 1.24704027, 0.01402552],\n",
              "       [1.25386587, 1.23979141, 1.2403246 , 1.24004999, 0.01215356],\n",
              "       [1.25489119, 1.25571494, 1.24979586, 1.26356843, 0.01654691],\n",
              "       [1.26954945, 1.25562755, 1.26019108, 1.26418709, 0.01359297],\n",
              "       [1.26334137, 1.26231271, 1.26210393, 1.26679646, 0.01486033],\n",
              "       [1.27230415, 1.2573866 , 1.25301301, 1.26186441, 0.01309499],\n",
              "       [1.25955007, 1.24943788, 1.24560962, 1.26167329, 0.01440112],\n",
              "       [1.26404555, 1.25413691, 1.24441509, 1.24740576, 0.01268425],\n",
              "       [1.2585473 , 1.26641515, 1.25667529, 1.27405118, 0.01727268],\n",
              "       [1.27908685, 1.27500951, 1.27675031, 1.28048472, 0.01252552],\n",
              "       [1.28813984, 1.27288871, 1.27135826, 1.26945099, 0.01927307],\n",
              "       [1.32821906, 1.33686127, 1.31112507, 1.31038618, 0.03608802],\n",
              "       [1.33001334, 1.32803425, 1.32657986, 1.33849369, 0.02386635],\n",
              "       [1.32672336, 1.32281298, 1.32651218, 1.32737565, 0.0236119 ],\n",
              "       [1.32572623, 1.31867167, 1.31656209, 1.31896803, 0.02037323],\n",
              "       [1.30714711, 1.29616151, 1.2755445 , 1.29595567, 0.02118017],\n",
              "       [1.30640345, 1.29779798, 1.29791821, 1.29735598, 0.01311437],\n",
              "       [1.29638716, 1.29808187, 1.29280677, 1.3111961 , 0.01239467],\n",
              "       [1.32419394, 1.31684033, 1.31966095, 1.3209476 , 0.0140025 ]])"
            ]
          },
          "metadata": {
            "tags": []
          },
          "execution_count": 77
        }
      ]
    },
    {
      "cell_type": "code",
      "metadata": {
        "colab": {
          "base_uri": "https://localhost:8080/"
        },
        "id": "fFrXY_6TnaMq",
        "outputId": "c0f80981-531c-4bdd-c62e-f022a898ed1b"
      },
      "source": [
        "x_test, y_test = perprocessData(scaled_training_data, n_back_steps)\n",
        "x_test.shape , y_test.shape"
      ],
      "execution_count": 85,
      "outputs": [
        {
          "output_type": "execute_result",
          "data": {
            "text/plain": [
              "((4062, 60, 5), (4062,))"
            ]
          },
          "metadata": {
            "tags": []
          },
          "execution_count": 85
        }
      ]
    },
    {
      "cell_type": "code",
      "metadata": {
        "colab": {
          "base_uri": "https://localhost:8080/"
        },
        "id": "0pJ_QzyDrFQ1",
        "outputId": "fcea6679-f398-49a0-fc8a-571145dd9eee"
      },
      "source": [
        "x_test"
      ],
      "execution_count": 86,
      "outputs": [
        {
          "output_type": "execute_result",
          "data": {
            "text/plain": [
              "array([[[2.27303632e-04, 6.43283156e-04, 0.00000000e+00, 9.24472018e-05,\n",
              "         5.43577158e-01],\n",
              "        [5.10729413e-04, 2.03521039e-03, 1.27420629e-03, 2.32514214e-03,\n",
              "         2.77885876e-01],\n",
              "        [3.24397659e-03, 3.25522693e-03, 3.67386538e-03, 2.63049229e-03,\n",
              "         2.22151352e-01],\n",
              "        ...,\n",
              "        [2.10213065e-02, 2.03687378e-02, 1.94526910e-02, 1.92426584e-02,\n",
              "         2.69022455e-01],\n",
              "        [2.00587736e-02, 1.96256344e-02, 1.97501896e-02, 1.90073414e-02,\n",
              "         2.58801782e-01],\n",
              "        [1.96266196e-02, 2.27394507e-02, 2.00982095e-02, 2.32542299e-02,\n",
              "         3.64401617e-01]],\n",
              "\n",
              "       [[5.10729413e-04, 2.03521039e-03, 1.27420629e-03, 2.32514214e-03,\n",
              "         2.77885876e-01],\n",
              "        [3.24397659e-03, 3.25522693e-03, 3.67386538e-03, 2.63049229e-03,\n",
              "         2.22151352e-01],\n",
              "        [3.38147960e-03, 2.73394743e-03, 2.13583780e-03, 1.36147087e-03,\n",
              "         1.85522815e-01],\n",
              "        ...,\n",
              "        [2.00587736e-02, 1.96256344e-02, 1.97501896e-02, 1.90073414e-02,\n",
              "         2.58801782e-01],\n",
              "        [1.96266196e-02, 2.27394507e-02, 2.00982095e-02, 2.32542299e-02,\n",
              "         3.64401617e-01],\n",
              "        [2.41446128e-02, 2.44169773e-02, 2.28571211e-02, 2.29684898e-02,\n",
              "         4.07225307e-01]],\n",
              "\n",
              "       [[3.24397659e-03, 3.25522693e-03, 3.67386538e-03, 2.63049229e-03,\n",
              "         2.22151352e-01],\n",
              "        [3.38147960e-03, 2.73394743e-03, 2.13583780e-03, 1.36147087e-03,\n",
              "         1.85522815e-01],\n",
              "        [1.61918171e-03, 1.73575198e-03, 2.22284407e-03, 1.67802579e-03,\n",
              "         1.11764685e-01],\n",
              "        ...,\n",
              "        [1.96266196e-02, 2.27394507e-02, 2.00982095e-02, 2.32542299e-02,\n",
              "         3.64401617e-01],\n",
              "        [2.41446128e-02, 2.44169773e-02, 2.28571211e-02, 2.29684898e-02,\n",
              "         4.07225307e-01],\n",
              "        [2.28032466e-02, 2.40066039e-02, 2.32360142e-02, 2.37724847e-02,\n",
              "         2.89388388e-01]],\n",
              "\n",
              "       ...,\n",
              "\n",
              "       [[7.95792967e-01, 7.97386048e-01, 7.90556865e-01, 7.92162961e-01,\n",
              "         1.54625064e-02],\n",
              "        [7.98147712e-01, 8.00174778e-01, 7.98078617e-01, 8.07684508e-01,\n",
              "         1.33930489e-02],\n",
              "        [8.03426255e-01, 7.99367690e-01, 7.89244033e-01, 7.89362273e-01,\n",
              "         1.49936070e-02],\n",
              "        ...,\n",
              "        [9.45687860e-01, 9.44776587e-01, 9.45003787e-01, 9.46231298e-01,\n",
              "         1.24298061e-02],\n",
              "        [9.49569317e-01, 9.43668895e-01, 9.47296909e-01, 9.49869851e-01,\n",
              "         4.10593446e-03],\n",
              "        [9.58940572e-01, 9.68565935e-01, 9.57001945e-01, 9.70812704e-01,\n",
              "         1.67819672e-02]],\n",
              "\n",
              "       [[7.98147712e-01, 8.00174778e-01, 7.98078617e-01, 8.07684508e-01,\n",
              "         1.33930489e-02],\n",
              "        [8.03426255e-01, 7.99367690e-01, 7.89244033e-01, 7.89362273e-01,\n",
              "         1.49936070e-02],\n",
              "        [7.97066133e-01, 7.89459617e-01, 7.82150492e-01, 7.93214600e-01,\n",
              "         2.10614308e-02],\n",
              "        ...,\n",
              "        [9.49569317e-01, 9.43668895e-01, 9.47296909e-01, 9.49869851e-01,\n",
              "         4.10593446e-03],\n",
              "        [9.58940572e-01, 9.68565935e-01, 9.57001945e-01, 9.70812704e-01,\n",
              "         1.67819672e-02],\n",
              "        [9.79308338e-01, 9.69518841e-01, 9.62498190e-01, 9.61044247e-01,\n",
              "         1.56478852e-02]],\n",
              "\n",
              "       [[8.03426255e-01, 7.99367690e-01, 7.89244033e-01, 7.89362273e-01,\n",
              "         1.49936070e-02],\n",
              "        [7.97066133e-01, 7.89459617e-01, 7.82150492e-01, 7.93214600e-01,\n",
              "         2.10614308e-02],\n",
              "        [7.97516768e-01, 8.01171171e-01, 7.98540597e-01, 8.07633913e-01,\n",
              "         1.42957104e-02],\n",
              "        ...,\n",
              "        [9.58940572e-01, 9.68565935e-01, 9.57001945e-01, 9.70812704e-01,\n",
              "         1.67819672e-02],\n",
              "        [9.79308338e-01, 9.69518841e-01, 9.62498190e-01, 9.61044247e-01,\n",
              "         1.56478852e-02],\n",
              "        [9.64785280e-01, 9.54297762e-01, 9.45319271e-01, 9.50246667e-01,\n",
              "         1.57290641e-02]]])"
            ]
          },
          "metadata": {
            "tags": []
          },
          "execution_count": 86
        }
      ]
    },
    {
      "cell_type": "code",
      "metadata": {
        "colab": {
          "base_uri": "https://localhost:8080/"
        },
        "id": "h5M5J6-xn4n3",
        "outputId": "04951550-6b53-475e-a338-d9009589a47a"
      },
      "source": [
        "y_pred= model.predict(x_test)\n",
        "print(y_pred)"
      ],
      "execution_count": 87,
      "outputs": [
        {
          "output_type": "stream",
          "text": [
            "[[0.04987118]\n",
            " [0.04979533]\n",
            " [0.04972309]\n",
            " ...\n",
            " [1.0496427 ]\n",
            " [1.0525281 ]\n",
            " [1.0550115 ]]\n"
          ],
          "name": "stdout"
        }
      ]
    },
    {
      "cell_type": "markdown",
      "metadata": {
        "id": "nUd-tWyxomEp"
      },
      "source": [
        "rescale the data back to its original form"
      ]
    },
    {
      "cell_type": "code",
      "metadata": {
        "colab": {
          "base_uri": "https://localhost:8080/"
        },
        "id": "lfn8TsO3oJWA",
        "outputId": "78f3801b-74f7-4a05-aa64-3a46b32f0c11"
      },
      "source": [
        "y_pred=y_pred*(1/scalar.scale_[0])\n",
        "y_test=y_test* (1/scalar.scale_[0])\n",
        "y_pred"
      ],
      "execution_count": 88,
      "outputs": [
        {
          "output_type": "execute_result",
          "data": {
            "text/plain": [
              "array([[  88.52684 ],\n",
              "       [  88.392204],\n",
              "       [  88.263954],\n",
              "       ...,\n",
              "       [1863.2314  ],\n",
              "       [1868.3535  ],\n",
              "       [1872.7617  ]], dtype=float32)"
            ]
          },
          "metadata": {
            "tags": []
          },
          "execution_count": 88
        }
      ]
    },
    {
      "cell_type": "code",
      "metadata": {
        "colab": {
          "base_uri": "https://localhost:8080/"
        },
        "id": "ICPKCWuuqyRM",
        "outputId": "b5e685ab-6bc7-4118-bab6-84e449035345"
      },
      "source": [
        "y_test"
      ],
      "execution_count": 89,
      "outputs": [
        {
          "output_type": "execute_result",
          "data": {
            "text/plain": [
              "array([  42.859349,   40.478276,   39.008786, ..., 1738.380238,\n",
              "       1712.600209, 1686.010243])"
            ]
          },
          "metadata": {
            "tags": []
          },
          "execution_count": 89
        }
      ]
    },
    {
      "cell_type": "markdown",
      "metadata": {
        "id": "wT571MhEZDWY"
      },
      "source": [
        "#Plotting predictions on training data"
      ]
    },
    {
      "cell_type": "code",
      "metadata": {
        "colab": {
          "base_uri": "https://localhost:8080/",
          "height": 320
        },
        "id": "WSUdVvSzpyQo",
        "outputId": "dd82860e-8a28-4879-d7f8-16af6c3d35db"
      },
      "source": [
        "plt.figure(figsize=(14,5))\n",
        "plt.plot(y_test, color=\"red\" , label=\"Real Stock Price\")\n",
        "plt.plot(y_pred ,color=\"blue\", label=\"Predicted Stock Price\")\n",
        "\n",
        "\n",
        "plt.ylabel(\"Stock Price\")\n",
        "plt.legend()\n",
        "plt.show()"
      ],
      "execution_count": 90,
      "outputs": [
        {
          "output_type": "display_data",
          "data": {
            "image/png": "[encoded data removed]",
            "text/plain": [
              "<Figure size 1008x360 with 1 Axes>"
            ]
          },
          "metadata": {
            "tags": [],
            "needs_background": "light"
          }
        }
      ]
    },
    {
      "cell_type": "code",
      "metadata": {
        "id": "3MzJhB_IZPE5"
      },
      "source": [
        "x_test, y_test = perprocessData(scaled_test_data, n_back_steps)\n",
        "x_test.shape , y_test.shape\n",
        "y_pred= model.predict(x_test)\n",
        "y_pred=y_pred*(1/scalar.scale_[0])\n",
        "y_test=y_test* (1/scalar.scale_[0])"
      ],
      "execution_count": 93,
      "outputs": []
    },
    {
      "cell_type": "markdown",
      "metadata": {
        "id": "Slg5FKapZffL"
      },
      "source": [
        "#Plotting prediction on test data"
      ]
    },
    {
      "cell_type": "code",
      "metadata": {
        "colab": {
          "base_uri": "https://localhost:8080/",
          "height": 322
        },
        "id": "TN20QArvZY-_",
        "outputId": "4a7f0eb6-263b-4b87-dd47-dc8090b852fd"
      },
      "source": [
        "plt.figure(figsize=(14,5))\n",
        "plt.plot(y_test, color=\"red\" , label=\"Real Stock Price\")\n",
        "plt.plot(y_pred ,color=\"blue\", label=\"Predicted Stock Price\")\n",
        "\n",
        "\n",
        "plt.ylabel(\"Stock Price\")\n",
        "plt.legend()\n",
        "plt.show()"
      ],
      "execution_count": 94,
      "outputs": [
        {
          "output_type": "display_data",
          "data": {
            "image/png": "[encoded data removed]",
            "text/plain": [
              "<Figure size 1008x360 with 1 Axes>"
            ]
          },
          "metadata": {
            "tags": [],
            "needs_background": "light"
          }
        }
      ]
    }
  ]
}